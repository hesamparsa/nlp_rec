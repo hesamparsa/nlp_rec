{
 "cells": [
  {
   "cell_type": "raw",
   "id": "9e26c9a7",
   "metadata": {},
   "source": [
    "This is the shell script to set up the environment:\n",
    "#!/bin/bash\n",
    "yes | conda create -n t4rec python=3.8.5 -c conda-forge\n",
    "source activate t4rec\n",
    "cd SageMaker/t4rec\n",
    "yes | pip install -r t4rec_req.txt\n",
    "conda install pytorch==1.7.0 torchvision==0.8.0 torchaudio==0.7.0 cudatoolkit=10.1 -c pytorch\n",
    "pip install torchmetrics\n",
    "pip install mlflow\n",
    "pip3 install boto3\n",
    "yes | pip install jupyter\n",
    "python -m ipykernel install --user --name ml --display-name \"t4rec\""
   ]
  },
  {
   "cell_type": "raw",
   "id": "a0519c5e",
   "metadata": {},
   "source": [
    "This is the requirement file content (t4rec_req.txt):\n",
    "transformers4rec==0.1.3\n",
    "transformers==4.12.*\n",
    "nltk==3.5\n",
    "numpy==1.19.2\n",
    "pandas==1.1.5\n",
    "rouge==1.0.0\n",
    "seaborn==0.11.1\n",
    "tensorflow==2.5.1\n",
    "tensorflow_metadata\n",
    "ipykernel==5.5.5\n",
    "ipywidgets==7.4.2\n",
    "matplotlib\n",
    "datasets"
   ]
  },
  {
   "cell_type": "code",
   "execution_count": null,
   "id": "2bb79b80",
   "metadata": {},
   "outputs": [],
   "source": [
    "import os\n",
    "import glob\n",
    "import torch \n",
    "import numpy as np\n",
    "import matplotlib.pyplot as plt\n",
    "import types\n",
    "import pandas as pd\n",
    "import json\n",
    "from merlin_standard_lib import Schema\n",
    "from datetime import datetime\n",
    "from transformers4rec.torch.utils.examples_utils import wipe_memory"
   ]
  },
  {
   "cell_type": "code",
   "execution_count": 46,
   "id": "c989994f",
   "metadata": {},
   "outputs": [],
   "source": [
    "pd.set_option('display.max_columns', None)\n",
    "pd.set_option('display.max_rows', None)"
   ]
  },
  {
   "cell_type": "code",
   "execution_count": 3,
   "id": "a4fd5cc5",
   "metadata": {},
   "outputs": [],
   "source": [
    "SCHEMA_PATH = \"sample_schema2.pb\"\n",
    "OVERWRITE_SCHEMA = True\n",
    "mapping_path=\"maps\"\n",
    "min_item_number = 4\n",
    "category_cols = [\"event_type\", \"product_id\", \"category_code\",\"brand\"]\n",
    "group_cols = category_cols + [\"price\", \"rel_time\"]"
   ]
  },
  {
   "cell_type": "code",
   "execution_count": 4,
   "id": "a8876de9",
   "metadata": {},
   "outputs": [],
   "source": [
    "def categorify_col(df,column,save_path=None):\n",
    "    \"\"\"\n",
    "    Replace column with an index mapped column, so a, b, c, becomes 1, 2, 3. \n",
    "    \n",
    "    :params df: Dataframe to do mapping on, data frame is changed in place\n",
    "    :param column: name of column to do mapping on. \n",
    "    :param save_path: directory to save columns in, will not create by default, if None, mappings are not saved. \n",
    "    \n",
    "    \n",
    "    \n",
    "    :return: Pandas series with index to value mapping. The index of the series is the value that will be used in the dataframe. \n",
    "    \n",
    "    \"\"\"\n",
    "    \n",
    "\n",
    "    print(column)\n",
    "    df_col = pd.Series(df[column].unique())\n",
    "    df_col.index+=1 #index needs to start at 1, not 0\n",
    "    df[column] = df[column].map(df_col.reset_index().set_index(0)[\"index\"])\n",
    "    if save_path:\n",
    "        path = os.path.join(save_path,column)+\".json\"\n",
    "        with open(path, 'w') as fp:      \n",
    "            json.dump(dict(df_col), fp)\n",
    "    return df_col"
   ]
  },
  {
   "cell_type": "code",
   "execution_count": 5,
   "id": "7a743cd6",
   "metadata": {},
   "outputs": [],
   "source": [
    "df_raw = pd.read_parquet(\"/home/ec2-user/SageMaker/t4rec_daily/Oct-2019.parquet\")"
   ]
  },
  {
   "cell_type": "code",
   "execution_count": null,
   "id": "ebbf167f",
   "metadata": {},
   "outputs": [],
   "source": [
    "print(\"Count with in-session repeated interactions: {}\".format(len(df)))\n",
    "\n",
    "\n",
    "\n",
    "df = df.sort_values([\"user_session\", \"rel_time\"])\n",
    "\n",
    "\n",
    "\n",
    "# Keeping only no consecutive repeated in session interactions\n",
    "session_is_last_session = df[\"user_session\"] == df[\"user_session\"].shift(1)\n",
    "item_is_last_item = df[\"product_id\"] == df[\"product_id\"].shift(1)\n",
    "df = df[~(session_is_last_session & item_is_last_item)]\n",
    "\n",
    "\n",
    "\n",
    "print(\"Count after removed in-session repeated interactions: {}\".format(len(df)))"
   ]
  },
  {
   "cell_type": "code",
   "execution_count": 6,
   "id": "d1f156bc",
   "metadata": {},
   "outputs": [],
   "source": [
    "df = df_raw.copy()"
   ]
  },
  {
   "cell_type": "code",
   "execution_count": 7,
   "id": "cad8ca62",
   "metadata": {},
   "outputs": [],
   "source": [
    "df = df.sort_values(['event_time_ts'], ascending=True)"
   ]
  },
  {
   "cell_type": "code",
   "execution_count": 8,
   "id": "ab97a5b2",
   "metadata": {},
   "outputs": [],
   "source": [
    "df[\"rel_time\"] = df.event_time_ts - df.prod_first_event_time_ts\n",
    "df.rel_time = df.rel_time.astype(float)\n",
    "\n",
    "#change these int64 to float so that I can save the json files\n",
    "df.product_id = df.product_id.astype(float)"
   ]
  },
  {
   "cell_type": "code",
   "execution_count": 9,
   "id": "978eb2c4",
   "metadata": {},
   "outputs": [
    {
     "name": "stdout",
     "output_type": "stream",
     "text": [
      "event_type\n",
      "product_id\n",
      "category_code\n",
      "brand\n"
     ]
    }
   ],
   "source": [
    "if not os.path.exists(mapping_path):\n",
    "    os.mkdir(mapping_path)\n",
    "for col in category_cols:\n",
    "    categorify_col(df,col,save_path=mapping_path)"
   ]
  },
  {
   "cell_type": "code",
   "execution_count": 10,
   "id": "686b2944",
   "metadata": {},
   "outputs": [
    {
     "name": "stdout",
     "output_type": "stream",
     "text": [
      "CPU times: user 5min 55s, sys: 6.12 s, total: 6min 1s\n",
      "Wall time: 6min 1s\n"
     ]
    }
   ],
   "source": [
    "%%time\n",
    "df_group_train = df.groupby('user_session').agg(lambda x: list(x)[:-2])\n",
    "df_group_valid = df.groupby('user_session').agg(lambda x: list(x)[-2:])"
   ]
  },
  {
   "cell_type": "code",
   "execution_count": 57,
   "id": "489c7842",
   "metadata": {},
   "outputs": [
    {
     "data": {
      "text/html": [
       "<div>\n",
       "<style scoped>\n",
       "    .dataframe tbody tr th:only-of-type {\n",
       "        vertical-align: middle;\n",
       "    }\n",
       "\n",
       "    .dataframe tbody tr th {\n",
       "        vertical-align: top;\n",
       "    }\n",
       "\n",
       "    .dataframe thead th {\n",
       "        text-align: right;\n",
       "    }\n",
       "</style>\n",
       "<table border=\"1\" class=\"dataframe\">\n",
       "  <thead>\n",
       "    <tr style=\"text-align: right;\">\n",
       "      <th></th>\n",
       "      <th>user_session</th>\n",
       "      <th>event_type</th>\n",
       "      <th>product_id</th>\n",
       "      <th>category_id</th>\n",
       "      <th>category_code</th>\n",
       "      <th>brand</th>\n",
       "      <th>price</th>\n",
       "      <th>user_id</th>\n",
       "      <th>event_time_ts</th>\n",
       "      <th>prod_first_event_time_ts</th>\n",
       "      <th>rel_time</th>\n",
       "      <th>len</th>\n",
       "    </tr>\n",
       "  </thead>\n",
       "  <tbody>\n",
       "    <tr>\n",
       "      <th>0</th>\n",
       "      <td>1</td>\n",
       "      <td>[1, 1, 1, 1, 1, 1, 1, 1, 1, 1, 1, 1, 1, 1, 1, ...</td>\n",
       "      <td>[11927, 12665, 13080, 17698, 17799, 6982, 5047...</td>\n",
       "      <td>[2053013553559896355, 2053013553559896355, 205...</td>\n",
       "      <td>[2, 2, 2, 2, 2, 41, 41, 41, 41, 41, 41, 41, 41...</td>\n",
       "      <td>[771, 223, 678, 457, 537, 144, 34, 144, 729, 6...</td>\n",
       "      <td>[70.79, 72.07, 72.59, 45.449999999999996, 68.2...</td>\n",
       "      <td>[513605798, 513605798, 513605798, 513605798, 5...</td>\n",
       "      <td>[1569900208, 1569900523, 1569900702, 156990268...</td>\n",
       "      <td>[1569900208, 1569900523, 1569900686, 156990268...</td>\n",
       "      <td>[0.0, 0.0, 16.0, 0.0, 0.0, 4794.0, 5491.0, 676...</td>\n",
       "      <td>777</td>\n",
       "    </tr>\n",
       "    <tr>\n",
       "      <th>1</th>\n",
       "      <td>6</td>\n",
       "      <td>[1, 1, 1, 1, 1, 1, 1, 1, 1, 1, 1, 1, 1, 1, 1, ...</td>\n",
       "      <td>[35, 2194, 20687, 1816, 35, 219, 2805, 444, 55...</td>\n",
       "      <td>[2053013558282682943, 2053013557133443581, 205...</td>\n",
       "      <td>[2, 49, 49, 9, 2, 2, 49, 3, 49, 49, 49, 49, 49...</td>\n",
       "      <td>[3, 3, 3, 3, 3, 45, 3, 3, 14, 3, 3, 14, 45, 3,...</td>\n",
       "      <td>[399.72999999999996, 255.06, 211.56, 155.19, 3...</td>\n",
       "      <td>[491844619, 491844619, 491844619, 491844619, 4...</td>\n",
       "      <td>[1569996656, 1569996695, 1569996721, 156999673...</td>\n",
       "      <td>[1569888028, 1569896860, 1569904145, 156989673...</td>\n",
       "      <td>[108628.0, 99835.0, 92576.0, 100008.0, 108735....</td>\n",
       "      <td>314</td>\n",
       "    </tr>\n",
       "    <tr>\n",
       "      <th>2</th>\n",
       "      <td>17</td>\n",
       "      <td>[1, 1, 1, 1, 1, 1, 1, 1, 1, 1, 1, 1, 1, 1, 1, ...</td>\n",
       "      <td>[8318, 1073, 11009, 9691, 17, 5619, 4099, 6652...</td>\n",
       "      <td>[2053013554415534427, 2053013554415534427, 205...</td>\n",
       "      <td>[11, 11, 11, 11, 11, 11, 11, 11, 11, 11, 11, 1...</td>\n",
       "      <td>[149, 149, 1053, 1053, 13, 13, 13, 13, 13, 46,...</td>\n",
       "      <td>[488.82, 436.82, 437.33, 360.09, 193.03, 244.5...</td>\n",
       "      <td>[513068111, 513068111, 513068111, 513068111, 5...</td>\n",
       "      <td>[1570129949, 1570130026, 1570130059, 157013007...</td>\n",
       "      <td>[1569898863, 1569896451, 1569899857, 156989937...</td>\n",
       "      <td>[231086.0, 233575.0, 230202.0, 230703.0, 24207...</td>\n",
       "      <td>128</td>\n",
       "    </tr>\n",
       "    <tr>\n",
       "      <th>3</th>\n",
       "      <td>22</td>\n",
       "      <td>[1, 1, 1, 1, 1, 1, 1, 1, 1, 1, 1, 1, 1, 1, 1, ...</td>\n",
       "      <td>[5679, 1010, 13057, 4513, 19276, 17524, 514, 4...</td>\n",
       "      <td>[2053013553945772349, 2053013553945772349, 205...</td>\n",
       "      <td>[41, 41, 41, 41, 41, 41, 41, 41, 41, 41, 41, 4...</td>\n",
       "      <td>[808, 49, 3, 144, 144, 53, 49, 688, 144, 151, ...</td>\n",
       "      <td>[15.44, 74.64999999999999, 144.15, 88.01, 48.6...</td>\n",
       "      <td>[522539566, 522539566, 522539566, 522539566, 5...</td>\n",
       "      <td>[1570013306, 1570013317, 1570013329, 157001334...</td>\n",
       "      <td>[1569897921, 1569896429, 1569900678, 156989755...</td>\n",
       "      <td>[115385.0, 116888.0, 112651.0, 115791.0, 10995...</td>\n",
       "      <td>275</td>\n",
       "    </tr>\n",
       "    <tr>\n",
       "      <th>4</th>\n",
       "      <td>26</td>\n",
       "      <td>[1, 1, 1, 1, 1, 1, 1, 1, 1, 1, 1, 1, 1, 1, 1, ...</td>\n",
       "      <td>[41561, 29934, 80103, 31750, 25860, 34761, 557...</td>\n",
       "      <td>[2053013563743667055, 2053013563743667055, 205...</td>\n",
       "      <td>[89, 89, 89, 89, 89, 89, 89, 89, 89, 89, 89, 8...</td>\n",
       "      <td>[1192, 15, 1777, 1777, 31, 67, 67, 1192, 3, 35...</td>\n",
       "      <td>[215.14, 247.26999999999998, 185.7699999999999...</td>\n",
       "      <td>[512805595, 512805595, 512805595, 512805595, 5...</td>\n",
       "      <td>[1570288849, 1570288891, 1570288961, 157028906...</td>\n",
       "      <td>[1569919477, 1569909801, 1570020265, 156991101...</td>\n",
       "      <td>[369372.0, 379090.0, 268696.0, 378052.0, 38183...</td>\n",
       "      <td>143</td>\n",
       "    </tr>\n",
       "  </tbody>\n",
       "</table>\n",
       "</div>"
      ],
      "text/plain": [
       "   user_session                                         event_type  \\\n",
       "0             1  [1, 1, 1, 1, 1, 1, 1, 1, 1, 1, 1, 1, 1, 1, 1, ...   \n",
       "1             6  [1, 1, 1, 1, 1, 1, 1, 1, 1, 1, 1, 1, 1, 1, 1, ...   \n",
       "2            17  [1, 1, 1, 1, 1, 1, 1, 1, 1, 1, 1, 1, 1, 1, 1, ...   \n",
       "3            22  [1, 1, 1, 1, 1, 1, 1, 1, 1, 1, 1, 1, 1, 1, 1, ...   \n",
       "4            26  [1, 1, 1, 1, 1, 1, 1, 1, 1, 1, 1, 1, 1, 1, 1, ...   \n",
       "\n",
       "                                          product_id  \\\n",
       "0  [11927, 12665, 13080, 17698, 17799, 6982, 5047...   \n",
       "1  [35, 2194, 20687, 1816, 35, 219, 2805, 444, 55...   \n",
       "2  [8318, 1073, 11009, 9691, 17, 5619, 4099, 6652...   \n",
       "3  [5679, 1010, 13057, 4513, 19276, 17524, 514, 4...   \n",
       "4  [41561, 29934, 80103, 31750, 25860, 34761, 557...   \n",
       "\n",
       "                                         category_id  \\\n",
       "0  [2053013553559896355, 2053013553559896355, 205...   \n",
       "1  [2053013558282682943, 2053013557133443581, 205...   \n",
       "2  [2053013554415534427, 2053013554415534427, 205...   \n",
       "3  [2053013553945772349, 2053013553945772349, 205...   \n",
       "4  [2053013563743667055, 2053013563743667055, 205...   \n",
       "\n",
       "                                       category_code  \\\n",
       "0  [2, 2, 2, 2, 2, 41, 41, 41, 41, 41, 41, 41, 41...   \n",
       "1  [2, 49, 49, 9, 2, 2, 49, 3, 49, 49, 49, 49, 49...   \n",
       "2  [11, 11, 11, 11, 11, 11, 11, 11, 11, 11, 11, 1...   \n",
       "3  [41, 41, 41, 41, 41, 41, 41, 41, 41, 41, 41, 4...   \n",
       "4  [89, 89, 89, 89, 89, 89, 89, 89, 89, 89, 89, 8...   \n",
       "\n",
       "                                               brand  \\\n",
       "0  [771, 223, 678, 457, 537, 144, 34, 144, 729, 6...   \n",
       "1  [3, 3, 3, 3, 3, 45, 3, 3, 14, 3, 3, 14, 45, 3,...   \n",
       "2  [149, 149, 1053, 1053, 13, 13, 13, 13, 13, 46,...   \n",
       "3  [808, 49, 3, 144, 144, 53, 49, 688, 144, 151, ...   \n",
       "4  [1192, 15, 1777, 1777, 31, 67, 67, 1192, 3, 35...   \n",
       "\n",
       "                                               price  \\\n",
       "0  [70.79, 72.07, 72.59, 45.449999999999996, 68.2...   \n",
       "1  [399.72999999999996, 255.06, 211.56, 155.19, 3...   \n",
       "2  [488.82, 436.82, 437.33, 360.09, 193.03, 244.5...   \n",
       "3  [15.44, 74.64999999999999, 144.15, 88.01, 48.6...   \n",
       "4  [215.14, 247.26999999999998, 185.7699999999999...   \n",
       "\n",
       "                                             user_id  \\\n",
       "0  [513605798, 513605798, 513605798, 513605798, 5...   \n",
       "1  [491844619, 491844619, 491844619, 491844619, 4...   \n",
       "2  [513068111, 513068111, 513068111, 513068111, 5...   \n",
       "3  [522539566, 522539566, 522539566, 522539566, 5...   \n",
       "4  [512805595, 512805595, 512805595, 512805595, 5...   \n",
       "\n",
       "                                       event_time_ts  \\\n",
       "0  [1569900208, 1569900523, 1569900702, 156990268...   \n",
       "1  [1569996656, 1569996695, 1569996721, 156999673...   \n",
       "2  [1570129949, 1570130026, 1570130059, 157013007...   \n",
       "3  [1570013306, 1570013317, 1570013329, 157001334...   \n",
       "4  [1570288849, 1570288891, 1570288961, 157028906...   \n",
       "\n",
       "                            prod_first_event_time_ts  \\\n",
       "0  [1569900208, 1569900523, 1569900686, 156990268...   \n",
       "1  [1569888028, 1569896860, 1569904145, 156989673...   \n",
       "2  [1569898863, 1569896451, 1569899857, 156989937...   \n",
       "3  [1569897921, 1569896429, 1569900678, 156989755...   \n",
       "4  [1569919477, 1569909801, 1570020265, 156991101...   \n",
       "\n",
       "                                            rel_time  len  \n",
       "0  [0.0, 0.0, 16.0, 0.0, 0.0, 4794.0, 5491.0, 676...  777  \n",
       "1  [108628.0, 99835.0, 92576.0, 100008.0, 108735....  314  \n",
       "2  [231086.0, 233575.0, 230202.0, 230703.0, 24207...  128  \n",
       "3  [115385.0, 116888.0, 112651.0, 115791.0, 10995...  275  \n",
       "4  [369372.0, 379090.0, 268696.0, 378052.0, 38183...  143  "
      ]
     },
     "execution_count": 57,
     "metadata": {},
     "output_type": "execute_result"
    }
   ],
   "source": [
    "df_group_train.head()"
   ]
  },
  {
   "cell_type": "code",
   "execution_count": 11,
   "id": "702aa954",
   "metadata": {},
   "outputs": [],
   "source": [
    "df_group_train = df_group_train.reset_index()\n",
    "df_group_valid = df_group_valid.reset_index()"
   ]
  },
  {
   "cell_type": "code",
   "execution_count": 12,
   "id": "14e74b3e",
   "metadata": {},
   "outputs": [],
   "source": [
    "df_group_train['len'] = df_group_train['event_type'].apply(len)\n",
    "df_group_valid['len'] = df_group_valid['event_type'].apply(len)"
   ]
  },
  {
   "cell_type": "code",
   "execution_count": 13,
   "id": "0ceeee01",
   "metadata": {},
   "outputs": [],
   "source": [
    "df_group_train = df_group_train[df_group_train.len >= 2]"
   ]
  },
  {
   "cell_type": "code",
   "execution_count": 14,
   "id": "1bad57fb",
   "metadata": {},
   "outputs": [],
   "source": [
    "df_group_valid = df_group_valid[df_group_valid.user_session.isin(df_group_train.user_session)]"
   ]
  },
  {
   "cell_type": "code",
   "execution_count": 15,
   "id": "83e44131",
   "metadata": {},
   "outputs": [],
   "source": [
    "def schema_maker(df, name,tag,data_type=None):\n",
    "    \"\"\"\n",
    "    Helper function to create parts of the schema file required to set up the t4rec models. Call this once for \n",
    "    each column you would like to add to the schema, then append these dictionaries as a list. \n",
    "    \n",
    "    Usage:\n",
    "    \n",
    "        schema_base = {\"user_session\":{\"tag\":[\"group_col\"]},\n",
    "                   \"product_id\":{\"tag\":[\"categorical\",\"list\",\"item_id\"]},\n",
    "                  \"category_code\":{\"tag\":[\"categorical\",\"list\"]},\n",
    "                  \"brand\":{\"tag\":[\"categorical\",\"list\"]},\n",
    "                  \"rel_time\":{\"tag\":[\"continuous\",\"list\"],\"data_type\":float}\n",
    "                  }\n",
    "        schema_list = [schema_maker(df_train, key,**val) for (key,val) in schema_base.items()]\n",
    "\n",
    "        schema = Schema().from_dict({\"feature\":schema_list})\n",
    "        with open(SCHEMA_PATH,\"wt\") as f:\n",
    "            f.write(schema.to_proto_text())\n",
    "        \n",
    "        \n",
    "        \n",
    "    \n",
    "    :param df: Pandas dataframe were columns reside. Required for getting column value ranges for the schema\n",
    "    :param name(str): column name to be used \n",
    "    :param tags (List[str]): List of tags to be used in the annotation for this column. \n",
    "    :param data_type: datatype for the column. Will be default try to detect based on df.dtypes. \n",
    "    \n",
    "    :return: dictionary for schema of one of the columns. \n",
    "    \n",
    "    \"\"\"\n",
    "    data_type = data_type if data_type else df.dtypes[name]\n",
    "    out_dict = {\"name\":name,\"annotation\":{\"tag\":tag}}\n",
    "    if data_type == int:\n",
    "        out_dict[\"type\"] = \"INT\"\n",
    "        out_dict[\"int_domain\"] = {\"name\":name,\n",
    "                                 \"min\":str(df[name].min()),\n",
    "                                 \"max\":str(df[name].max())}\n",
    "        if \"categorical\" in tag:\n",
    "            out_dict[\"int_domain\"][\"is_categorical\"] = True\n",
    "            out_dict[\"value_count\"] = {'min': '2', 'max': '20'}\n",
    "    if data_type == float:\n",
    "        out_dict[\"type\"] = \"FLOAT\"\n",
    "        min_val = df[name].min()\n",
    "        min_val = min_val if min_val !=0 else min_val+1\n",
    "        out_dict[\"float_domain\"]= {\"name\":name,\n",
    "                                 \"min\":min_val,\n",
    "                                 \"max\":df[name].max()}\n",
    "    return out_dict"
   ]
  },
  {
   "cell_type": "code",
   "execution_count": 16,
   "id": "55a9105f",
   "metadata": {},
   "outputs": [],
   "source": [
    "if not os.path.exists(SCHEMA_PATH) or OVERWRITE_SCHEMA:\n",
    "\n",
    "    schema_base = {\"user_session\":{\"tag\":[\"group_col\"]},\n",
    "                   \"product_id\":{\"tag\":[\"categorical\",\"list\",\"item_id\"],},\n",
    "                  \"category_code\":{\"tag\":[\"categorical\",\"list\"]},\n",
    "                  \"brand\":{\"tag\":[\"categorical\",\"list\"]},\n",
    "                  \"rel_time\":{\"tag\":[\"continuous\",\"list\"],\"data_type\":float},\n",
    "                   \"price\":{\"tag\":[\"continuous\",\"list\"],\"data_type\":float}\n",
    "                  }\n",
    "    schema_list = [schema_maker(df, key,**val) for (key,val) in schema_base.items()]\n",
    "\n",
    "    schema = Schema().from_dict({\"feature\":schema_list})\n",
    "    with open(SCHEMA_PATH,\"wt\") as f:\n",
    "        f.write(schema.to_proto_text())\n",
    "else:\n",
    "    schema = Schema().from_proto_text(SCHEMA_PATH)\n"
   ]
  },
  {
   "cell_type": "code",
   "execution_count": 17,
   "id": "ce577687",
   "metadata": {},
   "outputs": [],
   "source": [
    "df_group_train.to_parquet(\"sample_train.parquet\",index=False)\n",
    "df_group_valid.to_parquet(\"sample_val.parquet\",index=False)"
   ]
  },
  {
   "cell_type": "code",
   "execution_count": 19,
   "id": "f0e40084",
   "metadata": {},
   "outputs": [
    {
     "data": {
      "text/plain": [
       "(500443, 12)"
      ]
     },
     "execution_count": 19,
     "metadata": {},
     "output_type": "execute_result"
    }
   ],
   "source": [
    "df_group_valid.shape"
   ]
  },
  {
   "cell_type": "code",
   "execution_count": 18,
   "id": "12d06b3f",
   "metadata": {},
   "outputs": [
    {
     "data": {
      "text/plain": [
       "(500443, 12)"
      ]
     },
     "execution_count": 18,
     "metadata": {},
     "output_type": "execute_result"
    }
   ],
   "source": [
    "df_group_train.shape"
   ]
  },
  {
   "cell_type": "code",
   "execution_count": null,
   "id": "788c72cd",
   "metadata": {},
   "outputs": [],
   "source": [
    "ts = 1570492799\n",
    "\n",
    "# if you encounter a \"year is out of range\" error the timestamp\n",
    "# may be in milliseconds, try `ts /= 1000` in that case\n",
    "print(datetime.utcfromtimestamp(ts))"
   ]
  },
  {
   "cell_type": "code",
   "execution_count": 32,
   "id": "1f6eef72",
   "metadata": {},
   "outputs": [],
   "source": [
    "count = df.groupby('product_id')['user_session'].count()"
   ]
  },
  {
   "cell_type": "code",
   "execution_count": null,
   "id": "2d424306",
   "metadata": {},
   "outputs": [],
   "source": [
    "[ 89,  55,  72, 114,  43,  51,  69,  19, 105, 100]"
   ]
  },
  {
   "cell_type": "code",
   "execution_count": 58,
   "id": "e21f28a6",
   "metadata": {},
   "outputs": [
    {
     "data": {
      "text/html": [
       "<div>\n",
       "<style scoped>\n",
       "    .dataframe tbody tr th:only-of-type {\n",
       "        vertical-align: middle;\n",
       "    }\n",
       "\n",
       "    .dataframe tbody tr th {\n",
       "        vertical-align: top;\n",
       "    }\n",
       "\n",
       "    .dataframe thead th {\n",
       "        text-align: right;\n",
       "    }\n",
       "</style>\n",
       "<table border=\"1\" class=\"dataframe\">\n",
       "  <thead>\n",
       "    <tr style=\"text-align: right;\">\n",
       "      <th></th>\n",
       "      <th>product_id</th>\n",
       "      <th>user_session</th>\n",
       "    </tr>\n",
       "  </thead>\n",
       "  <tbody>\n",
       "    <tr>\n",
       "      <th>0</th>\n",
       "      <td>89</td>\n",
       "      <td>66805</td>\n",
       "    </tr>\n",
       "    <tr>\n",
       "      <th>1</th>\n",
       "      <td>72</td>\n",
       "      <td>61069</td>\n",
       "    </tr>\n",
       "    <tr>\n",
       "      <th>2</th>\n",
       "      <td>43</td>\n",
       "      <td>49598</td>\n",
       "    </tr>\n",
       "    <tr>\n",
       "      <th>3</th>\n",
       "      <td>55</td>\n",
       "      <td>37483</td>\n",
       "    </tr>\n",
       "    <tr>\n",
       "      <th>4</th>\n",
       "      <td>114</td>\n",
       "      <td>36222</td>\n",
       "    </tr>\n",
       "    <tr>\n",
       "      <th>5</th>\n",
       "      <td>69</td>\n",
       "      <td>28874</td>\n",
       "    </tr>\n",
       "    <tr>\n",
       "      <th>6</th>\n",
       "      <td>51</td>\n",
       "      <td>28167</td>\n",
       "    </tr>\n",
       "    <tr>\n",
       "      <th>7</th>\n",
       "      <td>280</td>\n",
       "      <td>25963</td>\n",
       "    </tr>\n",
       "    <tr>\n",
       "      <th>8</th>\n",
       "      <td>335</td>\n",
       "      <td>25901</td>\n",
       "    </tr>\n",
       "    <tr>\n",
       "      <th>9</th>\n",
       "      <td>122</td>\n",
       "      <td>24594</td>\n",
       "    </tr>\n",
       "    <tr>\n",
       "      <th>10</th>\n",
       "      <td>23</td>\n",
       "      <td>23741</td>\n",
       "    </tr>\n",
       "    <tr>\n",
       "      <th>11</th>\n",
       "      <td>75</td>\n",
       "      <td>21770</td>\n",
       "    </tr>\n",
       "    <tr>\n",
       "      <th>12</th>\n",
       "      <td>61</td>\n",
       "      <td>20513</td>\n",
       "    </tr>\n",
       "    <tr>\n",
       "      <th>13</th>\n",
       "      <td>287</td>\n",
       "      <td>20149</td>\n",
       "    </tr>\n",
       "    <tr>\n",
       "      <th>14</th>\n",
       "      <td>331</td>\n",
       "      <td>19155</td>\n",
       "    </tr>\n",
       "    <tr>\n",
       "      <th>15</th>\n",
       "      <td>105</td>\n",
       "      <td>19134</td>\n",
       "    </tr>\n",
       "    <tr>\n",
       "      <th>16</th>\n",
       "      <td>19</td>\n",
       "      <td>17732</td>\n",
       "    </tr>\n",
       "    <tr>\n",
       "      <th>17</th>\n",
       "      <td>456</td>\n",
       "      <td>17153</td>\n",
       "    </tr>\n",
       "    <tr>\n",
       "      <th>18</th>\n",
       "      <td>83</td>\n",
       "      <td>17124</td>\n",
       "    </tr>\n",
       "    <tr>\n",
       "      <th>19</th>\n",
       "      <td>21</td>\n",
       "      <td>16657</td>\n",
       "    </tr>\n",
       "  </tbody>\n",
       "</table>\n",
       "</div>"
      ],
      "text/plain": [
       "    product_id  user_session\n",
       "0           89         66805\n",
       "1           72         61069\n",
       "2           43         49598\n",
       "3           55         37483\n",
       "4          114         36222\n",
       "5           69         28874\n",
       "6           51         28167\n",
       "7          280         25963\n",
       "8          335         25901\n",
       "9          122         24594\n",
       "10          23         23741\n",
       "11          75         21770\n",
       "12          61         20513\n",
       "13         287         20149\n",
       "14         331         19155\n",
       "15         105         19134\n",
       "16          19         17732\n",
       "17         456         17153\n",
       "18          83         17124\n",
       "19          21         16657"
      ]
     },
     "execution_count": 58,
     "metadata": {},
     "output_type": "execute_result"
    }
   ],
   "source": [
    "count.reset_index().sort_values('user_session', ascending=False).reset_index(drop=True).head(20)"
   ]
  },
  {
   "cell_type": "code",
   "execution_count": 37,
   "id": "97aa95e9",
   "metadata": {},
   "outputs": [
    {
     "data": {
      "image/png": "[encoded data removed]",
      "text/plain": [
       "<Figure size 432x288 with 1 Axes>"
      ]
     },
     "metadata": {
      "needs_background": "light"
     },
     "output_type": "display_data"
    }
   ],
   "source": [
    "plt.hist(count, log=True);"
   ]
  }
 ],
 "metadata": {
  "kernelspec": {
   "display_name": "conda_amazonei_mxnet_p27",
   "language": "python",
   "name": "conda_amazonei_mxnet_p27"
  },
  "language_info": {
   "codemirror_mode": {
    "name": "ipython",
    "version": 2
   },
   "file_extension": ".py",
   "mimetype": "text/x-python",
   "name": "python",
   "nbconvert_exporter": "python",
   "pygments_lexer": "ipython2",
   "version": "2.7.16"
  }
 },
 "nbformat": 4,
 "nbformat_minor": 5
}
